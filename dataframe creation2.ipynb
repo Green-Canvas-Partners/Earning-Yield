{
 "cells": [
  {
   "cell_type": "code",
   "execution_count": 1,
   "id": "e5ded210",
   "metadata": {},
   "outputs": [],
   "source": [
    "import pandas as pd\n",
    "import numpy as np\n",
    "import pickle"
   ]
  },
  {
   "cell_type": "code",
   "execution_count": 2,
   "id": "3d0c48bd",
   "metadata": {},
   "outputs": [
    {
     "data": {
      "text/html": [
       "<div>\n",
       "<style scoped>\n",
       "    .dataframe tbody tr th:only-of-type {\n",
       "        vertical-align: middle;\n",
       "    }\n",
       "\n",
       "    .dataframe tbody tr th {\n",
       "        vertical-align: top;\n",
       "    }\n",
       "\n",
       "    .dataframe thead th {\n",
       "        text-align: right;\n",
       "    }\n",
       "</style>\n",
       "<table border=\"1\" class=\"dataframe\">\n",
       "  <thead>\n",
       "    <tr style=\"text-align: right;\">\n",
       "      <th></th>\n",
       "      <th>Alternative/Status</th>\n",
       "      <th>Original Ticker</th>\n",
       "    </tr>\n",
       "  </thead>\n",
       "  <tbody>\n",
       "    <tr>\n",
       "      <th>0</th>\n",
       "      <td>ABX</td>\n",
       "      <td>GOLD</td>\n",
       "    </tr>\n",
       "    <tr>\n",
       "      <th>1</th>\n",
       "      <td>AGU</td>\n",
       "      <td>NTR</td>\n",
       "    </tr>\n",
       "    <tr>\n",
       "      <th>2</th>\n",
       "      <td>BBT</td>\n",
       "      <td>TFC</td>\n",
       "    </tr>\n",
       "    <tr>\n",
       "      <th>3</th>\n",
       "      <td>BHI</td>\n",
       "      <td>BKR</td>\n",
       "    </tr>\n",
       "    <tr>\n",
       "      <th>4</th>\n",
       "      <td>BRCM</td>\n",
       "      <td>AVGO</td>\n",
       "    </tr>\n",
       "    <tr>\n",
       "      <th>5</th>\n",
       "      <td>BRK.A</td>\n",
       "      <td>BRK-A</td>\n",
       "    </tr>\n",
       "    <tr>\n",
       "      <th>6</th>\n",
       "      <td>BRK.B</td>\n",
       "      <td>BRK-B</td>\n",
       "    </tr>\n",
       "    <tr>\n",
       "      <th>7</th>\n",
       "      <td>CBS</td>\n",
       "      <td>PARA</td>\n",
       "    </tr>\n",
       "    <tr>\n",
       "      <th>8</th>\n",
       "      <td>CMCSK</td>\n",
       "      <td>CMCSA</td>\n",
       "    </tr>\n",
       "    <tr>\n",
       "      <th>9</th>\n",
       "      <td>COG</td>\n",
       "      <td>CTRA</td>\n",
       "    </tr>\n",
       "    <tr>\n",
       "      <th>10</th>\n",
       "      <td>COH</td>\n",
       "      <td>TPR</td>\n",
       "    </tr>\n",
       "    <tr>\n",
       "      <th>11</th>\n",
       "      <td>COV</td>\n",
       "      <td>MDT</td>\n",
       "    </tr>\n",
       "    <tr>\n",
       "      <th>12</th>\n",
       "      <td>CREE</td>\n",
       "      <td>WOLF</td>\n",
       "    </tr>\n",
       "    <tr>\n",
       "      <th>13</th>\n",
       "      <td>ERTS</td>\n",
       "      <td>EA</td>\n",
       "    </tr>\n",
       "    <tr>\n",
       "      <th>14</th>\n",
       "      <td>ESV</td>\n",
       "      <td>VAL</td>\n",
       "    </tr>\n",
       "    <tr>\n",
       "      <th>15</th>\n",
       "      <td>HANS</td>\n",
       "      <td>MNST</td>\n",
       "    </tr>\n",
       "    <tr>\n",
       "      <th>16</th>\n",
       "      <td>KFT</td>\n",
       "      <td>KHC</td>\n",
       "    </tr>\n",
       "    <tr>\n",
       "      <th>17</th>\n",
       "      <td>MYL</td>\n",
       "      <td>VTRS</td>\n",
       "    </tr>\n",
       "    <tr>\n",
       "      <th>18</th>\n",
       "      <td>NYX</td>\n",
       "      <td>ICE</td>\n",
       "    </tr>\n",
       "    <tr>\n",
       "      <th>19</th>\n",
       "      <td>PBR.A</td>\n",
       "      <td>PBR</td>\n",
       "    </tr>\n",
       "    <tr>\n",
       "      <th>20</th>\n",
       "      <td>PCLN</td>\n",
       "      <td>BKNG</td>\n",
       "    </tr>\n",
       "    <tr>\n",
       "      <th>21</th>\n",
       "      <td>POT</td>\n",
       "      <td>NTR</td>\n",
       "    </tr>\n",
       "    <tr>\n",
       "      <th>22</th>\n",
       "      <td>RDS.A</td>\n",
       "      <td>SHEL</td>\n",
       "    </tr>\n",
       "    <tr>\n",
       "      <th>23</th>\n",
       "      <td>RIMM</td>\n",
       "      <td>BB</td>\n",
       "    </tr>\n",
       "    <tr>\n",
       "      <th>24</th>\n",
       "      <td>SLW</td>\n",
       "      <td>WPM</td>\n",
       "    </tr>\n",
       "    <tr>\n",
       "      <th>25</th>\n",
       "      <td>TCK</td>\n",
       "      <td>TECK</td>\n",
       "    </tr>\n",
       "    <tr>\n",
       "      <th>26</th>\n",
       "      <td>TOT</td>\n",
       "      <td>TTE</td>\n",
       "    </tr>\n",
       "    <tr>\n",
       "      <th>27</th>\n",
       "      <td>UTX</td>\n",
       "      <td>RTX</td>\n",
       "    </tr>\n",
       "    <tr>\n",
       "      <th>28</th>\n",
       "      <td>VALE.P</td>\n",
       "      <td>VALE</td>\n",
       "    </tr>\n",
       "    <tr>\n",
       "      <th>29</th>\n",
       "      <td>WAG</td>\n",
       "      <td>WBA</td>\n",
       "    </tr>\n",
       "  </tbody>\n",
       "</table>\n",
       "</div>"
      ],
      "text/plain": [
       "   Alternative/Status Original Ticker\n",
       "0                 ABX            GOLD\n",
       "1                 AGU             NTR\n",
       "2                 BBT             TFC\n",
       "3                 BHI             BKR\n",
       "4                BRCM            AVGO\n",
       "5               BRK.A           BRK-A\n",
       "6               BRK.B           BRK-B\n",
       "7                 CBS            PARA\n",
       "8               CMCSK           CMCSA\n",
       "9                 COG            CTRA\n",
       "10                COH             TPR\n",
       "11                COV             MDT\n",
       "12               CREE            WOLF\n",
       "13               ERTS              EA\n",
       "14                ESV             VAL\n",
       "15               HANS            MNST\n",
       "16                KFT             KHC\n",
       "17                MYL            VTRS\n",
       "18                NYX             ICE\n",
       "19              PBR.A             PBR\n",
       "20               PCLN            BKNG\n",
       "21                POT             NTR\n",
       "22              RDS.A            SHEL\n",
       "23               RIMM              BB\n",
       "24                SLW             WPM\n",
       "25                TCK            TECK\n",
       "26                TOT             TTE\n",
       "27                UTX             RTX\n",
       "28             VALE.P            VALE\n",
       "29                WAG             WBA"
      ]
     },
     "execution_count": 2,
     "metadata": {},
     "output_type": "execute_result"
    }
   ],
   "source": [
    "# Save the refined list to a CSV file\n",
    "import pandas as pd\n",
    "\n",
    "data = {\n",
    "    'Alternative/Status': [\n",
    "        \"ABX\", \"AGU\", \"BBT\", \"BHI\",\"BRCM\", \"BRK.A\", \"BRK.B\", \"CBS\",\n",
    "        \"CMCSK\", \"COG\", \"COH\", \"COV\", \"CREE\", \"ERTS\", \"ESV\",\n",
    "        \"HANS\",\"KFT\", \"MYL\",\n",
    "        \"NYX\", \"PBR.A\", \"PCLN\", \"POT\", \"RDS.A\", \"RIMM\", \"SLW\",\"TCK\",\n",
    "        \"TOT\", \"UTX\", \"VALE.P\",\"WAG\"\n",
    "    ],\n",
    "    \"Original Ticker\": [\n",
    "        \"GOLD\", \"NTR\", \"TFC\", \"BKR\",\"AVGO\", \"BRK-A\", \"BRK-B\", \"PARA\",\n",
    "        \"CMCSA\", \"CTRA\", \"TPR\", \"MDT\", \"WOLF\", \"EA\", \"VAL\",\n",
    "        \"MNST\", \"KHC\",\n",
    "        \"VTRS\", \"ICE\", \"PBR\", \"BKNG\",\"NTR\", \"SHEL\", \"BB\",\n",
    "        \"WPM\", \"TECK\", \"TTE\", \"RTX\", \"VALE\", \"WBA\"\n",
    "    ]\n",
    "}\n",
    "\n",
    "df = pd.DataFrame(data)\n",
    "df"
   ]
  },
  {
   "cell_type": "code",
   "execution_count": 13,
   "id": "0ffcf3de",
   "metadata": {},
   "outputs": [],
   "source": [
    "with open('shares_outstanding_data_250.pkl','rb') as file:\n",
    "    load = pickle.load(file)\n"
   ]
  },
  {
   "cell_type": "code",
   "execution_count": 14,
   "id": "20717180",
   "metadata": {},
   "outputs": [],
   "source": [
    "for _, row in df.iterrows():\n",
    "    alternative = row['Alternative/Status']\n",
    "    original = row['Original Ticker']\n",
    "    if original in load:\n",
    "        load[alternative] = load.pop(original)\n"
   ]
  },
  {
   "cell_type": "code",
   "execution_count": 15,
   "id": "6f24a9b0",
   "metadata": {},
   "outputs": [],
   "source": [
    "with open('updated_shares_outstanding_data_250.pkl', 'wb') as file:\n",
    "    pickle.dump(load, file)"
   ]
  },
  {
   "cell_type": "code",
   "execution_count": 16,
   "id": "9e4b6cd7",
   "metadata": {},
   "outputs": [],
   "source": [
    "with open('eps_data.pkl', 'rb') as file:\n",
    "    load1 = pickle.load(file)\n"
   ]
  },
  {
   "cell_type": "code",
   "execution_count": 17,
   "id": "e725259d",
   "metadata": {},
   "outputs": [],
   "source": [
    "for _, row in df.iterrows():\n",
    "    alternative = row['Alternative/Status']\n",
    "    original = row['Original Ticker']\n",
    "    if original in load1:\n",
    "        load1[alternative] = load1.pop(original)\n"
   ]
  },
  {
   "cell_type": "code",
   "execution_count": 18,
   "id": "6b5f30f2",
   "metadata": {},
   "outputs": [],
   "source": [
    "with open('updated_eps_data.pkl', 'wb') as file:\n",
    "    pickle.dump(load1, file)"
   ]
  },
  {
   "cell_type": "code",
   "execution_count": 37,
   "id": "1dda3303",
   "metadata": {},
   "outputs": [],
   "source": [
    "with open('dividend_dataAAAAA.pkl', 'rb') as file:\n",
    "    load2 = pickle.load(file)\n"
   ]
  },
  {
   "cell_type": "code",
   "execution_count": 38,
   "id": "3f9abe82",
   "metadata": {},
   "outputs": [],
   "source": [
    "for _, row in df.iterrows():\n",
    "    alternative = row['Alternative/Status']\n",
    "    original = row['Original Ticker']\n",
    "    if original in load2:\n",
    "        load2[alternative] = load2.pop(original)\n"
   ]
  },
  {
   "cell_type": "code",
   "execution_count": 39,
   "id": "caa9649b",
   "metadata": {},
   "outputs": [
    {
     "data": {
      "text/plain": [
       "dict_keys(['AA', 'AAL', 'AAPL', 'ABBV', 'ABNB', 'ABT', 'ACI', 'ACN', 'ADBE', 'ADI', 'ADM', 'ADP', 'ADSK', 'AEM', 'AET', 'AFL', 'AFRM', 'AGN', 'AGNC', 'AI', 'AIG', 'AKAM', 'ALB', 'ALGN', 'ALL', 'ALTR', 'ALXN', 'AMAT', 'AMC', 'AMD', 'AMGN', 'AMR', 'AMT', 'AMTD', 'AMX', 'AMZN', 'ANET', 'ANF', 'ANTM', 'AON', 'APA', 'APC', 'APD', 'ASML', 'AT', 'ATI', 'ATVI', 'AUY', 'AXP', 'AZN', 'AZO', 'BA', 'BABA', 'BAC', 'BAX', 'BBD', 'BBY', 'BDX', 'BEN', 'BG', 'BIDU', 'BIIB', 'BILI', 'BK', 'BLK', 'BMY', 'BNTX', 'BP', 'BSX', 'BTU', 'BUD', 'BX', 'BXP', 'C', 'CAL', 'CAT', 'CB', 'CCI', 'CCL', 'CCU', 'CDNS', 'CELG', 'CF', 'CHTR', 'CI', 'CL', 'CLF', 'CLX', 'CME', 'CMG', 'CMI', 'CNC', 'CNQ', 'CNX', 'COF', 'COIN', 'COP', 'COST', 'COUP', 'CRM', 'CRWD', 'CSCO', 'CSX', 'CTL', 'CTSH', 'CTXS', 'CVNA', 'CVS', 'CVX', 'CXO', 'D', 'DAL', 'DASH', 'DD', 'DDD', 'DDOG', 'DE', 'DELL', 'DFS', 'DG', 'DHR', 'DIS', 'DLTR', 'DNA', 'DO', 'DOCU', 'DOW', 'DRYS', 'DUK', 'DVN', 'DXCM', 'EBAY', 'EL', 'EMR', 'ENPH', 'EOG', 'EP', 'EQIX', 'ESRX', 'ETN', 'ETR', 'ETSY', 'EW', 'EXC', 'EXPE', 'F', 'FB', 'FCX', 'FDC', 'FDX', 'FFIV', 'FIS', 'FITB', 'FLR', 'FOXA', 'FSLR', 'FUTU', 'GD', 'GE', 'GG', 'GILD', 'GIS', 'GLW', 'GM', 'GME', 'GOOG', 'GOOGL', 'GPN', 'GRMN', 'GS', 'HAL', 'HCA', 'HD', 'HES', 'HIG', 'HLF', 'HON', 'HPE', 'HPQ', 'HTZ', 'HUM', 'IBM', 'ILMN', 'INCY', 'INTC', 'INTU', 'IP', 'ISRG', 'ITUB', 'ITW', 'JCI', 'JD', 'JNJ', 'JNPR', 'JPM', 'JWN', 'KBH', 'KLAC', 'KMB', 'KMI', 'KO', 'KR', 'KSS', 'LBTYA', 'LEN', 'LIN', 'LLTC', 'LLY', 'LM', 'LMT', 'LNG', 'LOW', 'LRCX', 'LULU', 'LUV', 'LVLT', 'LVS', 'LYB', 'M', 'MA', 'MAR', 'MARA', 'MBI', 'MCD', 'MCHP', 'MCK', 'MCO', 'MDB', 'MDLZ', 'MELI', 'MET', 'MGM', 'MMM', 'MO', 'MON', 'MOS', 'MPC', 'MRK', 'MRNA', 'MRO', 'MRVL', 'MS', 'MSFT', 'MSTR', 'MT', 'MTCH', 'MU', 'MXIM', 'NBR', 'NCLH', 'NE', 'NEE', 'NEM', 'NET', 'NFLX', 'NIHD', 'NIO', 'NKE', 'NLY', 'NOC', 'NOK', 'NOV', 'NOW', 'NSC', 'NTAP', 'NTES', 'NTRS', 'NUE', 'NVAX', 'NVDA', 'NVS', 'NWSA', 'NXPI', 'OKTA', 'ON', 'ORCL', 'ORLY', 'OXY', 'P', 'PANW', 'PD', 'PDD', 'PENN', 'PEP', 'PFE', 'PG', 'PGR', 'PHM', 'PINS', 'PLD', 'PLTR', 'PLUG', 'PM', 'PNC', 'PRGO', 'PRU', 'PSA', 'PSX', 'PTON', 'PX', 'PXD', 'PYPL', 'QCOM', 'RAI', 'RBLX', 'RCL', 'REGN', 'RF', 'RHT', 'RIG', 'RIO', 'RIOT', 'RIVN', 'RMBS', 'RNG', 'ROKU', 'RTN', 'S', 'SBUX', 'SCHW', 'SE', 'SHOP', 'SHPG', 'SHW', 'SII', 'SINA', 'SIRI', 'SLB', 'SLM', 'SMCI', 'SNAP', 'SNOW', 'SNPS', 'SO', 'SPCE', 'SPG', 'SPGI', 'SPLS', 'SPOT', 'SQ', 'STI', 'STJ', 'STT', 'STX', 'STZ', 'SU', 'SUN', 'SUNW', 'SWKS', 'SWN', 'SYF', 'SYK', 'SYMC', 'T', 'TDOC', 'TEAM', 'TEVA', 'TGT', 'TJX', 'TLRY', 'TMO', 'TMUS', 'TOL', 'TRV', 'TSLA', 'TSM', 'TSN', 'TSO', 'TTD', 'TTWO', 'TWLO', 'TWTR', 'TWX', 'TXN', 'U', 'UA', 'UAL', 'UBER', 'ULTA', 'UNH', 'UNP', 'UPS', 'UPST', 'USB', 'V', 'VIAB', 'VIAC', 'VLO', 'VMW', 'VNO', 'VRTX', 'VRX', 'VZ', 'W', 'WB', 'WDAY', 'WDC', 'WFC', 'WFM', 'WFT', 'WLL', 'WM', 'WMB', 'WMT', 'WY', 'WYNN', 'X', 'XLNX', 'XOM', 'YELP', 'YHOO', 'YUM', 'Z', 'ZM', 'ZS', 'ZTS', 'META', 'ABX', 'AGU', 'BBT', 'BHI', 'BRCM', 'BRK.A', 'BRK.B', 'CBS', 'CMCSK', 'COG', 'COH', 'COV', 'CREE', 'ERTS', 'ESV', 'HANS', 'KFT', 'MYL', 'NYX', 'PBR.A', 'PCLN', 'RDS.A', 'RIMM', 'SLW', 'TCK', 'TOT', 'UTX', 'VALE.P', 'WAG'])"
      ]
     },
     "execution_count": 39,
     "metadata": {},
     "output_type": "execute_result"
    }
   ],
   "source": [
    "load2.keys()"
   ]
  },
  {
   "cell_type": "code",
   "execution_count": 40,
   "id": "9d3c0a92",
   "metadata": {},
   "outputs": [],
   "source": [
    "load2['FB'] = load2.pop('META')"
   ]
  },
  {
   "cell_type": "code",
   "execution_count": 44,
   "id": "9d7f4c83",
   "metadata": {},
   "outputs": [],
   "source": [
    "load2['META'] = load2['FB']"
   ]
  },
  {
   "cell_type": "code",
   "execution_count": 48,
   "id": "925eda27",
   "metadata": {},
   "outputs": [],
   "source": [
    "with open('updated_dividend_data.pkl', 'wb') as file:\n",
    "    pickle.dump(load2, file)"
   ]
  },
  {
   "cell_type": "code",
   "execution_count": 51,
   "id": "3a06ed20",
   "metadata": {},
   "outputs": [
    {
     "data": {
      "text/plain": [
       "Date\n",
       "2021-05-07    0.22\n",
       "2021-08-06    0.22\n",
       "2021-11-05    0.22\n",
       "2022-02-04    0.22\n",
       "2022-05-06    0.23\n",
       "2022-08-05    0.23\n",
       "2022-11-04    0.23\n",
       "2023-02-10    0.23\n",
       "2023-05-12    0.24\n",
       "2023-08-11    0.24\n",
       "2023-11-10    0.24\n",
       "2024-02-09    0.24\n",
       "2024-05-10    0.25\n",
       "2024-08-12    0.25\n",
       "2024-11-08    0.25\n",
       "Name: Dividends, dtype: float64"
      ]
     },
     "execution_count": 51,
     "metadata": {},
     "output_type": "execute_result"
    }
   ],
   "source": [
    "load2['AAPL'].tail(15)"
   ]
  },
  {
   "cell_type": "code",
   "execution_count": null,
   "id": "d2ee117b",
   "metadata": {},
   "outputs": [],
   "source": []
  },
  {
   "cell_type": "code",
   "execution_count": 5,
   "id": "69e030f0",
   "metadata": {},
   "outputs": [
    {
     "name": "stdout",
     "output_type": "stream",
     "text": [
      "AGU 13929\n"
     ]
    }
   ],
   "source": [
    "with open('/mnt/spare8tb/all_dataframes_sequential.pkl','rb') as f:\n",
    "    all_data = pickle.load(f)\n",
    "for idx,i in enumerate(all_data):\n",
    "    ticker = i.columns[0].split('_')[0]\n",
    "    if ticker == 'AGU':\n",
    "        print(ticker,idx)"
   ]
  },
  {
   "cell_type": "code",
   "execution_count": null,
   "id": "d467122b",
   "metadata": {},
   "outputs": [],
   "source": []
  },
  {
   "cell_type": "code",
   "execution_count": null,
   "id": "f59b7ed1",
   "metadata": {},
   "outputs": [],
   "source": []
  }
 ],
 "metadata": {
  "kernelspec": {
   "display_name": "Python 3 (ipykernel)",
   "language": "python",
   "name": "python3"
  },
  "language_info": {
   "codemirror_mode": {
    "name": "ipython",
    "version": 3
   },
   "file_extension": ".py",
   "mimetype": "text/x-python",
   "name": "python",
   "nbconvert_exporter": "python",
   "pygments_lexer": "ipython3",
   "version": "3.9.7"
  }
 },
 "nbformat": 4,
 "nbformat_minor": 5
}
