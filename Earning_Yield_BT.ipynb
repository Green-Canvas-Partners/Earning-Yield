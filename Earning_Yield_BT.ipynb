{
 "cells": [
  {
   "cell_type": "markdown",
   "id": "2a798304",
   "metadata": {},
   "source": [
    "# IMPORTING"
   ]
  },
  {
   "cell_type": "code",
   "execution_count": 1,
   "id": "a9248437",
   "metadata": {},
   "outputs": [
    {
     "data": {
      "text/plain": [
       "1"
      ]
     },
     "execution_count": 1,
     "metadata": {},
     "output_type": "execute_result"
    }
   ],
   "source": [
    "import requests as rq\n",
    "import pandas as pd\n",
    "import numpy as np\n",
    "import math as math\n",
    "import finnhub\n",
    "import requests as rq\n",
    "import finnhub as fh\n",
    "import finnhub\n",
    "import pandas as pd\n",
    "import seaborn as sns\n",
    "import matplotlib.pyplot as plt\n",
    "import warnings\n",
    "warnings.filterwarnings('ignore')\n",
    "fin_client = fh.Client(api_key='caln0naad3ife6c66oc0')\n",
    "import numpy as np\n",
    "finnhub_client = finnhub.Client(api_key=\"caln0naad3ife6c66oc0\")\n",
    "bf = finnhub_client.company_basic_financials('AAPL', 'all')\n",
    "f = finnhub_client.financials('AAPL', 'bs', 'quarterly')\n",
    "years = pd.DataFrame(bf[\"series\"][\"quarterly\"][\"bookValue\"]).loc[:, \"period\"].head(40)\n",
    "bf[\"series\"][\"quarterly\"]\n",
    "# bf[\"series\"]\n",
    "years\n",
    "1"
   ]
  },
  {
   "cell_type": "markdown",
   "id": "4d09d94a",
   "metadata": {},
   "source": [
    "# GET_DATA"
   ]
  },
  {
   "cell_type": "code",
   "execution_count": 2,
   "id": "e026d596",
   "metadata": {},
   "outputs": [],
   "source": [
    "def get_data(symbol, start_date, end_date,token):\n",
    "        \"\"\"\n",
    "        Create a Sheet of historical stock prices for the given symbol.\n",
    "        Parameters\n",
    "        ----------\n",
    "        symbol : str (Ticker symbol) company name\n",
    "        The symbol for the stock to retrieve historical data for.\n",
    "        start_date : str unix timestamp\n",
    "        end_date : str unix timestamp\n",
    "        token : str\n",
    "        \"\"\"\n",
    "        import requests as rq\n",
    "        import pandas as pd\n",
    "        import datetime\n",
    "        url = 'https://finnhub.io/api/v1/stock/candle?symbol={}&resolution=D&from={}&to={}&token={}'.format(symbol, start_date,end_date,token)\n",
    "        data = rq.get(url).json()\n",
    "        # print(data)\n",
    "        df = pd.DataFrame(data)\n",
    "        df['Date'] = df['t'].apply(lambda x: datetime.datetime.fromtimestamp(int(x)).strftime('%Y-%m-%d'))\n",
    "        # df['Date'] = pd.to_datetime(df['t'], unit='s')\n",
    "        df = df.set_index('Date')\n",
    "        df.drop(['t','s'], axis=1, inplace=True)\n",
    "        df.rename(columns={'c': 'Close', 'h': 'High', 'l': 'Low', 'o': 'Open', 'v':'Volume'}, inplace=True)\n",
    "        # df.to_csv('{}_historical_data.csv'.format(symbol))\n",
    "        return df\n",
    "\n"
   ]
  },
  {
   "cell_type": "markdown",
   "id": "bb0bcce1",
   "metadata": {},
   "source": [
    "# Earning Yield"
   ]
  },
  {
   "cell_type": "markdown",
   "id": "bb39d266",
   "metadata": {},
   "source": [
    "## Earning Yield: \n",
    "                        THE EARNING YIELD IS \n",
    "## Formula:\n",
    "                        THE FORMULA IS\n",
    "## Reference:\n",
    "                        HERE IS THE LINK OF PAPER\n"
   ]
  },
  {
   "cell_type": "code",
   "execution_count": 7,
   "id": "c7b2d329",
   "metadata": {},
   "outputs": [],
   "source": [
    "\n",
    "##### CURRENT MONTH PRICE  #######\n",
    "\n",
    "def curr_month_price(symbol):\n",
    "    print('curr_month_price run')\n",
    "    tail = 46\n",
    "    arr = []\n",
    "    p = []\n",
    "    start_p = get_data(symbol,'788860800','1654066800','caln0naad3ife6c66oc0')\n",
    "    for i in range(120):\n",
    "        start_point = start_p.tail(tail).head(1)[\"Close\"]   \n",
    "        p = np.array(start_point).item(0)\n",
    "        arr.append(p)\n",
    "        tail = tail + 21\n",
    "    return arr\n",
    "\n",
    "def earning_yield1(symbol,curr_price):\n",
    "    print('earning yield start')\n",
    "    bf = finnhub_client.company_basic_financials(symbol, 'all')\n",
    "    f = finnhub_client.financials(symbol, 'bs', 'quarterly')\n",
    "    sd = finnhub_client.stock_dividends(symbol, _from='2010-08-01', to='2022-08-01')\n",
    "    rec_date = pd.DataFrame(sd).loc[:, \"date\"]\n",
    "    amount = pd.DataFrame(sd).loc[:, \"amount\"]\n",
    "    years = pd.DataFrame(bf[\"series\"][\"quarterly\"][\"bookValue\"]).loc[:, \"period\"].head(40)\n",
    "    divi_data = pd.DataFrame({'period': pd.Series(rec_date),'Dividend': pd.Series(amount)})[\"Dividend\"]\n",
    "    dividends = pd.Series(pd.Series(divi_data)).to_list()\n",
    "    x = dividends\n",
    "    dividends.append(x[-1])\n",
    "    dividend = np.array(dividends)\n",
    "    dividend_month = np.repeat(pd.Series(pd.Series(dividend)).to_numpy(), 3)\n",
    "    eps_quarterly = pd.DataFrame(bf[\"series\"][\"quarterly\"][\"eps\"]).head(40)[\"v\"]\n",
    "    eps_month = np.repeat(pd.Series(pd.Series(eps_quarterly)).to_numpy(), 3)\n",
    "    \n",
    "    shares_data = pd.DataFrame(f[\"financials\"]).loc[:, \"sharesOutstanding\"]\n",
    "    shares_month = np.repeat(pd.Series(pd.Series(shares_data)).to_numpy(), 3)\n",
    "    curr_month = curr_price \n",
    "    marketCap = shares_month * curr_month\n",
    "    \n",
    "    \n",
    "    earn_yield = eps_month * shares_month / marketCap\n",
    "    dividend_month = np.repeat(pd.Series(pd.Series(dividend)).to_numpy(), 3)\n",
    "    earningsTTM = (dividend_month * 4)/ marketCap\n",
    "    earningsTTM2 = (dividend_month * 4)/curr_price\n",
    "\n",
    "    earnings_yield = 0.75 * earn_yield + 0.15 * earningsTTM + 0.10 * earningsTTM2\n",
    "    return earnings_yield"
   ]
  },
  {
   "cell_type": "code",
   "execution_count": null,
   "id": "0e8c6f74",
   "metadata": {},
   "outputs": [],
   "source": [
    "#shares month \n",
    "    shares_data = pd.DataFrame(f[\"financials\"]).loc[:, \"sharesOutstanding\"]\n",
    "    shares_month = np.repeat(pd.Series(pd.Series(shares_data)).to_numpy(), 3)\n",
    "\n",
    "#market cap\n",
    "    curr_month = curr_price \n",
    "    marketCap = shares_month * curr_month\n",
    "\n",
    "#eps month\n",
    "    eps_quarterly = pd.DataFrame(bf[\"series\"][\"quarterly\"][\"eps\"]).head(40)[\"v\"]\n",
    "    eps_month = np.repeat(pd.Series(pd.Series(eps_quarterly)).to_numpy(), 3)\n",
    "\n",
    "#earning yield\n",
    "    earn_yield = eps_month * shares_month / marketCap\n",
    "\n",
    "# Divident month\n",
    "    dividend = np.array(dividends)\n",
    "    dividend_month = np.repeat(pd.Series(pd.Series(dividend)).to_numpy(), 3)\n",
    "\n",
    "#earning trails\n",
    "    earningsTTM = (dividend_month * 4)/ marketCap\n",
    "    earningsTTM2 = (dividend_month * 4)/curr_price\n",
    "\n",
    "#Earnings Yield\n",
    "    earnings_yield = 0.75 * earn_yield + 0.15 * earningsTTM + 0.10 * earningsTTM2\n",
    "\n",
    "    "
   ]
  },
  {
   "cell_type": "code",
   "execution_count": 9,
   "id": "7671f743",
   "metadata": {},
   "outputs": [
    {
     "name": "stdout",
     "output_type": "stream",
     "text": [
      "curr_month_price run\n",
      "earning yield start\n"
     ]
    }
   ],
   "source": [
    "symbol = 'AAPL'\n",
    "month_price = curr_month_price(symbol)\n",
    "earning_yield = earning_yield1(symbol,month_price)"
   ]
  },
  {
   "cell_type": "code",
   "execution_count": 10,
   "id": "64e9b917",
   "metadata": {},
   "outputs": [
    {
     "data": {
      "text/plain": [
       "array([0.01254911, 0.01336745, 0.01379938, 0.01459767, 0.01625539,\n",
       "       0.01762924, 0.01476688, 0.01454969, 0.01480661, 0.0162627 ,\n",
       "       0.0174959 , 0.01640879, 0.01867502, 0.01869504, 0.01595777,\n",
       "       0.01879412, 0.02153564, 0.0215581 , 0.01662734, 0.01475562,\n",
       "       0.02002002, 0.00760701, 0.00845268, 0.00965635, 0.0107676 ,\n",
       "       0.00975273, 0.00839676, 0.01550849, 0.01687902, 0.0182337 ,\n",
       "       0.01411056, 0.01519774, 0.01479765, 0.01236192, 0.01392023,\n",
       "       0.01206769, 0.01418222, 0.01530548, 0.01712392, 0.02525398,\n",
       "       0.02303771, 0.01845352, 0.0139411 , 0.01433   , 0.0159496 ,\n",
       "       0.01445303, 0.01413497, 0.01623171, 0.01756844, 0.01652495,\n",
       "       0.01728403, 0.02188372, 0.02188997, 0.02437854, 0.01699219,\n",
       "       0.01606187, 0.01666998, 0.01547986, 0.01467001, 0.01571042,\n",
       "       0.01831398, 0.0188795 , 0.02116896, 0.03032567, 0.03154358,\n",
       "       0.02997512, 0.02148419, 0.02241492, 0.02504896, 0.02394413,\n",
       "       0.02244913, 0.02143155, 0.02463714, 0.0267836 , 0.0259184 ,\n",
       "       0.03341847, 0.03082446, 0.03048018, 0.02348072, 0.02602934,\n",
       "       0.02199465, 0.02054339, 0.01983629, 0.01974582, 0.0239559 ,\n",
       "       0.02310957, 0.02631548, 0.03137   , 0.0303115 , 0.03367719,\n",
       "       0.02334432, 0.0233926 , 0.02431924, 0.02514812, 0.02542509,\n",
       "       0.02781184, 0.02040323, 0.02109577, 0.02016821, 0.02310522,\n",
       "       0.02527566, 0.02509155, 0.01770856, 0.01728725, 0.01975201,\n",
       "       0.02002522, 0.01811244, 0.01974326, 0.02175617, 0.02265708,\n",
       "       0.02226982, 0.02468422, 0.02282225, 0.02102068, 0.01299536,\n",
       "       0.01383994, 0.0150371 , 0.01655782, 0.01717319, 0.01673072])"
      ]
     },
     "execution_count": 10,
     "metadata": {},
     "output_type": "execute_result"
    }
   ],
   "source": []
  },
  {
   "cell_type": "code",
   "execution_count": null,
   "id": "ee6d1410",
   "metadata": {},
   "outputs": [],
   "source": []
  }
 ],
 "metadata": {
  "kernelspec": {
   "display_name": "Python 3 (ipykernel)",
   "language": "python",
   "name": "python3"
  },
  "language_info": {
   "codemirror_mode": {
    "name": "ipython",
    "version": 3
   },
   "file_extension": ".py",
   "mimetype": "text/x-python",
   "name": "python",
   "nbconvert_exporter": "python",
   "pygments_lexer": "ipython3",
   "version": "3.9.7"
  }
 },
 "nbformat": 4,
 "nbformat_minor": 5
}
